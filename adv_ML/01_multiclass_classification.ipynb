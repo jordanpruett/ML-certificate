{
 "cells": [
  {
   "cell_type": "markdown",
   "metadata": {},
   "source": [
    "# Multiclass Classification\n",
    "\n",
    "While binary classifiers are used to distinguish between two classes (e.g. detect if a transaction is a fraudulent one, classify an email into either spam or non-spam and etc.), multiclass classifiers distinguish between more than two classes. \n",
    "\n",
    "There are various ways that we can use to perform multiclass classification by leveraging any binary classifiers. In this exercise, you will implement two such strategies for multiclass classification: _One-versus-all_ strategy and _One-versus-one_ strategy.\n",
    "\n",
    "- **One-versus-all (OvA)**: In this strategy, we train a single binary classifier per class, with the samples of that class as positive samples and all other samples as negatives. During inference, we get the prediction from each classifier and select the class with the highest score. This strategy is also called the one-versus-the-rest strtegey. \n",
    "\n",
    "- **One-versus-one (OvO)**: In this strategy, we train a binary classifier for every pair of classes. If there are N classes in the problem, you need to train N * (N-1) / 2 classifiers. During inference, we have to run through all N * (N-1) / 2 classifiers and ses which class wins the most votes. The main advantage of OvO strategy is that each binary classifier only needs to be train on the part of the training dataset for the two classes that it needs to separate. "
   ]
  },
  {
   "cell_type": "code",
   "execution_count": 1,
   "metadata": {},
   "outputs": [],
   "source": [
    "# import packages\n",
    "%matplotlib inline\n",
    "import numpy as np\n",
    "import matplotlib.pyplot as plt\n",
    "import pandas as pd\n",
    "from sklearn import datasets\n",
    "from sklearn.linear_model import LogisticRegression\n",
    "\n",
    "# make this notebook's output stable across runs\n",
    "np.random.seed(0)"
   ]
  },
  {
   "cell_type": "markdown",
   "metadata": {},
   "source": [
    "## Avila Dataset\n",
    "\n",
    "In this lab assignment, we use the [Avila](https://archive.ics.uci.edu/ml/datasets/Avila) data set has been extracted from 800 images of the the \"Avila Bible\", a giant Latin copy of the whole Bible produced during the XII century between Italy and Spain.  \n",
    "The palaeographic analysis of the  manuscript has  individuated the presence of 12 copyists. The pages written by each copyist are not equally numerous. \n",
    "Each pattern contains 10 features and corresponds to a group of 4 consecutive rows.\n",
    "\n",
    "The prediction task consists in associating each pattern to one of the 12 copyists (labeled as: A, B, C, D, E, F, G, H, I, W, X, Y).\n",
    "The data have has been normalized, by using the Z-normalization method, and divided in two data sets: a training set containing 10430 samples, and a test set  containing the 10437 samples.\n"
   ]
  },
  {
   "cell_type": "code",
   "execution_count": 17,
   "metadata": {
    "collapsed": true
   },
   "outputs": [],
   "source": [
    "# Load train and test data from CSV files.\n",
    "train = pd.read_csv(\"avila-tr.txt\", header=None)\n",
    "test = pd.read_csv(\"avila-ts.txt\", header=None)\n",
    "\n",
    "x_train = train.iloc[:,:-1]\n",
    "y_train = train.iloc[:,-1]\n",
    "\n",
    "x_test = test.iloc[:,:-1]\n",
    "y_test = test.iloc[:,-1]"
   ]
  },
  {
   "cell_type": "code",
   "execution_count": 18,
   "metadata": {},
   "outputs": [
    {
     "name": "stdout",
     "output_type": "stream",
     "text": [
      "10430\n",
      "10437\n"
     ]
    }
   ],
   "source": [
    "# Output the number of images in each class in the train and test datasets.\n",
    "print(len(train))\n",
    "print(len(test))"
   ]
  },
  {
   "cell_type": "markdown",
   "metadata": {},
   "source": [
    "Question 1.1: Check for missing Data"
   ]
  },
  {
   "cell_type": "code",
   "execution_count": 19,
   "metadata": {},
   "outputs": [
    {
     "data": {
      "text/html": [
       "<div>\n",
       "<style scoped>\n",
       "    .dataframe tbody tr th:only-of-type {\n",
       "        vertical-align: middle;\n",
       "    }\n",
       "\n",
       "    .dataframe tbody tr th {\n",
       "        vertical-align: top;\n",
       "    }\n",
       "\n",
       "    .dataframe thead th {\n",
       "        text-align: right;\n",
       "    }\n",
       "</style>\n",
       "<table border=\"1\" class=\"dataframe\">\n",
       "  <thead>\n",
       "    <tr style=\"text-align: right;\">\n",
       "      <th></th>\n",
       "      <th>0</th>\n",
       "      <th>1</th>\n",
       "      <th>2</th>\n",
       "      <th>3</th>\n",
       "      <th>4</th>\n",
       "      <th>5</th>\n",
       "      <th>6</th>\n",
       "      <th>7</th>\n",
       "      <th>8</th>\n",
       "      <th>9</th>\n",
       "    </tr>\n",
       "  </thead>\n",
       "  <tbody>\n",
       "  </tbody>\n",
       "</table>\n",
       "</div>"
      ],
      "text/plain": [
       "Empty DataFrame\n",
       "Columns: [0, 1, 2, 3, 4, 5, 6, 7, 8, 9]\n",
       "Index: []"
      ]
     },
     "execution_count": 19,
     "metadata": {},
     "output_type": "execute_result"
    }
   ],
   "source": [
    "x_train[x_train.isna().any(axis=1)]"
   ]
  },
  {
   "cell_type": "code",
   "execution_count": 20,
   "metadata": {},
   "outputs": [
    {
     "data": {
      "text/plain": [
       "Series([], Name: 10, dtype: object)"
      ]
     },
     "execution_count": 20,
     "metadata": {},
     "output_type": "execute_result"
    }
   ],
   "source": [
    "y_train[y_train.isna()]"
   ]
  },
  {
   "cell_type": "code",
   "execution_count": 21,
   "metadata": {},
   "outputs": [
    {
     "data": {
      "text/html": [
       "<div>\n",
       "<style scoped>\n",
       "    .dataframe tbody tr th:only-of-type {\n",
       "        vertical-align: middle;\n",
       "    }\n",
       "\n",
       "    .dataframe tbody tr th {\n",
       "        vertical-align: top;\n",
       "    }\n",
       "\n",
       "    .dataframe thead th {\n",
       "        text-align: right;\n",
       "    }\n",
       "</style>\n",
       "<table border=\"1\" class=\"dataframe\">\n",
       "  <thead>\n",
       "    <tr style=\"text-align: right;\">\n",
       "      <th></th>\n",
       "      <th>0</th>\n",
       "      <th>1</th>\n",
       "      <th>2</th>\n",
       "      <th>3</th>\n",
       "      <th>4</th>\n",
       "      <th>5</th>\n",
       "      <th>6</th>\n",
       "      <th>7</th>\n",
       "      <th>8</th>\n",
       "      <th>9</th>\n",
       "    </tr>\n",
       "  </thead>\n",
       "  <tbody>\n",
       "  </tbody>\n",
       "</table>\n",
       "</div>"
      ],
      "text/plain": [
       "Empty DataFrame\n",
       "Columns: [0, 1, 2, 3, 4, 5, 6, 7, 8, 9]\n",
       "Index: []"
      ]
     },
     "execution_count": 21,
     "metadata": {},
     "output_type": "execute_result"
    }
   ],
   "source": [
    "x_test[x_test.isna().any(axis=1)]"
   ]
  },
  {
   "cell_type": "code",
   "execution_count": 22,
   "metadata": {},
   "outputs": [
    {
     "data": {
      "text/plain": [
       "Series([], Name: 10, dtype: object)"
      ]
     },
     "execution_count": 22,
     "metadata": {},
     "output_type": "execute_result"
    }
   ],
   "source": [
    "y_test[y_test.isna()]"
   ]
  },
  {
   "cell_type": "markdown",
   "metadata": {},
   "source": [
    "Question 1.2: Apply Z-normalization to data"
   ]
  },
  {
   "cell_type": "code",
   "execution_count": 23,
   "metadata": {
    "collapsed": true
   },
   "outputs": [],
   "source": [
    "from sklearn.preprocessing import StandardScaler\n",
    "scaler = StandardScaler()\n",
    "\n",
    "x_train = pd.DataFrame(scaler.fit_transform(x_train), columns=x_train.columns)\n",
    "x_test = pd.DataFrame(scaler.transform(x_test), columns=x_train.columns)"
   ]
  },
  {
   "cell_type": "markdown",
   "metadata": {},
   "source": [
    "Question 2.1: Write a method to train multiple logistic regression models performing One vs All (OvA) classification. The method allows you to pass in training features, and target. The method returns a list of models and their associated labels. \n",
    "Within the method:\n",
    "- Determine the list of classes\n",
    "- Create a place to store all the models\n",
    "- For each class, train a model with the target variable set to 1 and 0 for all other classes\n",
    "- Return the list of models trained and associated labels."
   ]
  },
  {
   "cell_type": "code",
   "execution_count": 24,
   "metadata": {
    "collapsed": true
   },
   "outputs": [],
   "source": [
    "def trainOvA(x, y):\n",
    "    \"\"\"\n",
    "    Train the multiclass classifier using OvA strategy. \n",
    "    \"\"\"\n",
    "    labels = sorted(y.unique())\n",
    "    n_labels = len(labels)\n",
    "    models = [None for _ in range(n_labels)]\n",
    "    model_labels = [None for _ in range(n_labels)]\n",
    "    print(\"number of classes is {}\".format(n_labels))\n",
    "\n",
    "    #Create model\n",
    "    for i, label in enumerate(labels): # more pythonic this way\n",
    "        print(\"Train Logistic Regression model for class {}\".format(label))\n",
    "\n",
    "        # update the label according to OvA strategy\n",
    "        ova_train = np.where(y == label, 1, 0)\n",
    "        \n",
    "        # Train model\n",
    "        models[i] = LogisticRegression(solver='lbfgs').fit(x, ova_train)\n",
    "        model_labels[i] = label\n",
    "    return models, model_labels"
   ]
  },
  {
   "cell_type": "markdown",
   "metadata": {},
   "source": [
    "Question 2.2: Write a method that leverage the multiple models train for OvA, and outputs the majority class."
   ]
  },
  {
   "cell_type": "code",
   "execution_count": 25,
   "metadata": {
    "collapsed": true
   },
   "outputs": [],
   "source": [
    "def predictOvA(models, labels, x):\n",
    "    \"\"\"\n",
    "    TODO: Make predictions on multiclass problems using the OvA strategy. \n",
    "    \"\"\"\n",
    "    if models == None:\n",
    "        sys.exit(\"The model has not been trained yet. Please call train() first. Exiting...\")\n",
    "    \n",
    "    predictions = pd.DataFrame()\n",
    "    \n",
    "    #Create prediction\n",
    "    for label, model in zip(labels, models):\n",
    "        predictions[label] = model.predict_proba(x_test)[:, 1]\n",
    "\n",
    "    # best method I found for binarizing the output\n",
    "    return predictions.eq(predictions.where(predictions != 0).max(1), axis=0).astype(int)"
   ]
  },
  {
   "cell_type": "markdown",
   "metadata": {},
   "source": [
    "Question 2.3: Train OvA model on the Avila dataset"
   ]
  },
  {
   "cell_type": "code",
   "execution_count": 26,
   "metadata": {},
   "outputs": [
    {
     "name": "stdout",
     "output_type": "stream",
     "text": [
      "number of classes is 12\n",
      "Train Logistic Regression model for class A\n",
      "Train Logistic Regression model for class B\n",
      "Train Logistic Regression model for class C\n",
      "Train Logistic Regression model for class D\n",
      "Train Logistic Regression model for class E\n",
      "Train Logistic Regression model for class F\n",
      "Train Logistic Regression model for class G\n",
      "Train Logistic Regression model for class H\n",
      "Train Logistic Regression model for class I\n",
      "Train Logistic Regression model for class W\n",
      "Train Logistic Regression model for class X\n",
      "Train Logistic Regression model for class Y\n"
     ]
    }
   ],
   "source": [
    "from sklearn.linear_model import LogisticRegression\n",
    "\n",
    "models, model_labels = trainOvA(x_train, y_train)"
   ]
  },
  {
   "cell_type": "markdown",
   "metadata": {},
   "source": [
    "Question 2.4: Predict and evalutate the results of your model"
   ]
  },
  {
   "cell_type": "code",
   "execution_count": 27,
   "metadata": {},
   "outputs": [
    {
     "data": {
      "text/plain": [
       "(10437, 12)"
      ]
     },
     "execution_count": 27,
     "metadata": {},
     "output_type": "execute_result"
    }
   ],
   "source": [
    "predictions = predictOvA(models, model_labels, x_test)\n",
    "predictions.shape\n",
    "#te_z_ova = predictOvA(#to do)"
   ]
  },
  {
   "cell_type": "code",
   "execution_count": 28,
   "metadata": {},
   "outputs": [
    {
     "name": "stdout",
     "output_type": "stream",
     "text": [
      "Accuracy of OvA classifier is 0.5308996838171889.\n",
      "Confusion matrix of OvA classifier: \n",
      " [[[ 1917  4234]\n",
      "  [  127  4159]]\n",
      "\n",
      " [[10432     0]\n",
      "  [    0     5]]\n",
      "\n",
      " [[10334     0]\n",
      "  [  103     0]]\n",
      "\n",
      " [[10084     0]\n",
      "  [  353     0]]\n",
      "\n",
      " [[ 9231   111]\n",
      "  [ 1019    76]]\n",
      "\n",
      " [[ 8244   231]\n",
      "  [ 1907    55]]\n",
      "\n",
      " [[ 9990     0]\n",
      "  [  447     0]]\n",
      "\n",
      " [[ 9872    45]\n",
      "  [  480    40]]\n",
      "\n",
      " [[ 9450   155]\n",
      "  [   99   733]]\n",
      "\n",
      " [[10392     0]\n",
      "  [   45     0]]\n",
      "\n",
      " [[ 9839    76]\n",
      "  [  175   347]]\n",
      "\n",
      " [[10126    44]\n",
      "  [  141   126]]]\n"
     ]
    }
   ],
   "source": [
    "from sklearn.metrics import accuracy_score\n",
    "from sklearn.metrics import multilabel_confusion_matrix\n",
    "\n",
    "bin_y_test = pd.get_dummies(y_test)\n",
    "ova_accuracy = accuracy_score(bin_y_test, predictions)\n",
    "ova_confuction_matrix = multilabel_confusion_matrix(bin_y_test, predictions)\n",
    "\n",
    "print(\"Accuracy of OvA classifier is {}.\".format(ova_accuracy))\n",
    "print(\"Confusion matrix of OvA classifier: \\n {}\".format(ova_confuction_matrix))"
   ]
  },
  {
   "cell_type": "markdown",
   "metadata": {},
   "source": [
    "Question 3.1: Develop a method that trains a list of models based on the OvO stragety for multiclass classification using logistic regression. "
   ]
  },
  {
   "cell_type": "code",
   "execution_count": 29,
   "metadata": {
    "collapsed": true
   },
   "outputs": [],
   "source": [
    "def trainOvO(x, y):\n",
    "    \"\"\"\n",
    "    TODO: Train the multiclass classifier using OvO strategy. \n",
    "    \"\"\"\n",
    "    labels = sorted(y.unique())\n",
    "    n_labels = len(labels)\n",
    "    n_models = int(len(labels) * (len(labels) - 1) / 2)\n",
    "    print(\"number of classes is {}\".format(n_labels))\n",
    "\n",
    "    models = []\n",
    "    model_labels = []\n",
    "    model_idx = 0\n",
    "    for i in range(n_labels):\n",
    "        for j in range(i+1, n_labels):\n",
    "            label_i = labels[i]\n",
    "            label_j = labels[j]\n",
    "            print(\"Train Logistic Regression model to distinguish {} and {}\".format(label_i, label_j))\n",
    "\n",
    "            # update the label according to OvA strategy\n",
    "            train_y = y[(y == label_i) | (y == label_j)]\n",
    "            train_x = x.iloc[train_y.index]\n",
    "            \n",
    "            # binarize target\n",
    "            train_y = np.where(train_y == label_i, 0, 1)\n",
    "\n",
    "            # construct the logistic regression instance\n",
    "            model = LogisticRegression(solver = 'liblinear').fit(train_x, train_y)\n",
    "            models.append(model)\n",
    "            model_labels.append((label_i, label_j))\n",
    "        \n",
    "    return models, model_labels"
   ]
  },
  {
   "cell_type": "markdown",
   "metadata": {},
   "source": [
    "Question 3.2: Write a method that leverage the multiple models train for OvO, and outputs the majority class."
   ]
  },
  {
   "cell_type": "code",
   "execution_count": 30,
   "metadata": {
    "collapsed": true
   },
   "outputs": [],
   "source": [
    "def predictOvO(models, labels, x):\n",
    "    \"\"\"\n",
    "    TODO: Make predictions on multiclass problems using the OvO strategy. \n",
    "    \"\"\"\n",
    "    if models == None:\n",
    "        sys.exit(\"The model has not been trained yet. Please call train() first. Exiting...\")\n",
    "\n",
    "    n_models = len(models)\n",
    "    predictions = pd.DataFrame()\n",
    "    for label_tup, model in zip(labels, models):\n",
    "        label_i = label_tup[0]\n",
    "        label_j = label_tup[1]\n",
    "        col_name = f'{label_i}_vs_{label_j}'\n",
    "        predict_bin = model.predict(x_test) # 0 or 1\n",
    "        predictions[col_name] = np.where(predict_bin == 0, label_i, label_j)\n",
    "        \n",
    "    return predictions.mode(axis=1)[0]"
   ]
  },
  {
   "cell_type": "markdown",
   "metadata": {},
   "source": [
    "Question 3.3: Train OvO model on the Avila dataset"
   ]
  },
  {
   "cell_type": "code",
   "execution_count": 31,
   "metadata": {},
   "outputs": [
    {
     "name": "stdout",
     "output_type": "stream",
     "text": [
      "number of classes is 12\n",
      "Train Logistic Regression model to distinguish A and B\n",
      "Train Logistic Regression model to distinguish A and C\n",
      "Train Logistic Regression model to distinguish A and D\n",
      "Train Logistic Regression model to distinguish A and E\n",
      "Train Logistic Regression model to distinguish A and F\n",
      "Train Logistic Regression model to distinguish A and G\n",
      "Train Logistic Regression model to distinguish A and H\n",
      "Train Logistic Regression model to distinguish A and I\n",
      "Train Logistic Regression model to distinguish A and W\n",
      "Train Logistic Regression model to distinguish A and X\n",
      "Train Logistic Regression model to distinguish A and Y\n",
      "Train Logistic Regression model to distinguish B and C\n",
      "Train Logistic Regression model to distinguish B and D\n",
      "Train Logistic Regression model to distinguish B and E\n",
      "Train Logistic Regression model to distinguish B and F\n",
      "Train Logistic Regression model to distinguish B and G\n",
      "Train Logistic Regression model to distinguish B and H\n",
      "Train Logistic Regression model to distinguish B and I\n",
      "Train Logistic Regression model to distinguish B and W\n",
      "Train Logistic Regression model to distinguish B and X\n",
      "Train Logistic Regression model to distinguish B and Y\n",
      "Train Logistic Regression model to distinguish C and D\n",
      "Train Logistic Regression model to distinguish C and E\n",
      "Train Logistic Regression model to distinguish C and F\n",
      "Train Logistic Regression model to distinguish C and G\n",
      "Train Logistic Regression model to distinguish C and H\n",
      "Train Logistic Regression model to distinguish C and I\n",
      "Train Logistic Regression model to distinguish C and W\n",
      "Train Logistic Regression model to distinguish C and X\n",
      "Train Logistic Regression model to distinguish C and Y\n",
      "Train Logistic Regression model to distinguish D and E\n",
      "Train Logistic Regression model to distinguish D and F\n",
      "Train Logistic Regression model to distinguish D and G\n",
      "Train Logistic Regression model to distinguish D and H\n",
      "Train Logistic Regression model to distinguish D and I\n",
      "Train Logistic Regression model to distinguish D and W\n",
      "Train Logistic Regression model to distinguish D and X\n",
      "Train Logistic Regression model to distinguish D and Y\n",
      "Train Logistic Regression model to distinguish E and F\n",
      "Train Logistic Regression model to distinguish E and G\n",
      "Train Logistic Regression model to distinguish E and H\n",
      "Train Logistic Regression model to distinguish E and I\n",
      "Train Logistic Regression model to distinguish E and W\n",
      "Train Logistic Regression model to distinguish E and X\n",
      "Train Logistic Regression model to distinguish E and Y\n",
      "Train Logistic Regression model to distinguish F and G\n",
      "Train Logistic Regression model to distinguish F and H\n",
      "Train Logistic Regression model to distinguish F and I\n",
      "Train Logistic Regression model to distinguish F and W\n",
      "Train Logistic Regression model to distinguish F and X\n",
      "Train Logistic Regression model to distinguish F and Y\n",
      "Train Logistic Regression model to distinguish G and H\n",
      "Train Logistic Regression model to distinguish G and I\n",
      "Train Logistic Regression model to distinguish G and W\n",
      "Train Logistic Regression model to distinguish G and X\n",
      "Train Logistic Regression model to distinguish G and Y\n",
      "Train Logistic Regression model to distinguish H and I\n",
      "Train Logistic Regression model to distinguish H and W\n",
      "Train Logistic Regression model to distinguish H and X\n",
      "Train Logistic Regression model to distinguish H and Y\n",
      "Train Logistic Regression model to distinguish I and W\n",
      "Train Logistic Regression model to distinguish I and X\n",
      "Train Logistic Regression model to distinguish I and Y\n",
      "Train Logistic Regression model to distinguish W and X\n",
      "Train Logistic Regression model to distinguish W and Y\n",
      "Train Logistic Regression model to distinguish X and Y\n"
     ]
    }
   ],
   "source": [
    "models, labels = trainOvO(x_train, y_train)"
   ]
  },
  {
   "cell_type": "markdown",
   "metadata": {},
   "source": [
    "Question 3.4: Predict and evalutate the results of your model"
   ]
  },
  {
   "cell_type": "code",
   "execution_count": 32,
   "metadata": {},
   "outputs": [
    {
     "data": {
      "text/plain": [
       "0        A\n",
       "1        I\n",
       "2        I\n",
       "3        A\n",
       "4        A\n",
       "        ..\n",
       "10432    X\n",
       "10433    A\n",
       "10434    A\n",
       "10435    F\n",
       "10436    F\n",
       "Name: 0, Length: 10437, dtype: object"
      ]
     },
     "execution_count": 32,
     "metadata": {},
     "output_type": "execute_result"
    }
   ],
   "source": [
    "ovo_pred = predictOvO(models, labels, x_test)\n",
    "ovo_pred\n",
    "#te_z_ovo = predictOvO(#to do)"
   ]
  },
  {
   "cell_type": "code",
   "execution_count": 33,
   "metadata": {},
   "outputs": [
    {
     "data": {
      "text/html": [
       "<div>\n",
       "<style scoped>\n",
       "    .dataframe tbody tr th:only-of-type {\n",
       "        vertical-align: middle;\n",
       "    }\n",
       "\n",
       "    .dataframe tbody tr th {\n",
       "        vertical-align: top;\n",
       "    }\n",
       "\n",
       "    .dataframe thead th {\n",
       "        text-align: right;\n",
       "    }\n",
       "</style>\n",
       "<table border=\"1\" class=\"dataframe\">\n",
       "  <thead>\n",
       "    <tr style=\"text-align: right;\">\n",
       "      <th></th>\n",
       "      <th>A</th>\n",
       "      <th>B</th>\n",
       "      <th>C</th>\n",
       "      <th>D</th>\n",
       "      <th>E</th>\n",
       "      <th>F</th>\n",
       "      <th>G</th>\n",
       "      <th>H</th>\n",
       "      <th>I</th>\n",
       "      <th>W</th>\n",
       "      <th>X</th>\n",
       "      <th>Y</th>\n",
       "    </tr>\n",
       "  </thead>\n",
       "  <tbody>\n",
       "    <tr>\n",
       "      <th>0</th>\n",
       "      <td>1</td>\n",
       "      <td>0</td>\n",
       "      <td>0</td>\n",
       "      <td>0</td>\n",
       "      <td>0</td>\n",
       "      <td>0</td>\n",
       "      <td>0</td>\n",
       "      <td>0</td>\n",
       "      <td>0</td>\n",
       "      <td>0</td>\n",
       "      <td>0</td>\n",
       "      <td>0</td>\n",
       "    </tr>\n",
       "    <tr>\n",
       "      <th>1</th>\n",
       "      <td>0</td>\n",
       "      <td>0</td>\n",
       "      <td>0</td>\n",
       "      <td>0</td>\n",
       "      <td>0</td>\n",
       "      <td>0</td>\n",
       "      <td>0</td>\n",
       "      <td>0</td>\n",
       "      <td>1</td>\n",
       "      <td>0</td>\n",
       "      <td>0</td>\n",
       "      <td>0</td>\n",
       "    </tr>\n",
       "    <tr>\n",
       "      <th>2</th>\n",
       "      <td>0</td>\n",
       "      <td>0</td>\n",
       "      <td>0</td>\n",
       "      <td>0</td>\n",
       "      <td>0</td>\n",
       "      <td>0</td>\n",
       "      <td>0</td>\n",
       "      <td>0</td>\n",
       "      <td>1</td>\n",
       "      <td>0</td>\n",
       "      <td>0</td>\n",
       "      <td>0</td>\n",
       "    </tr>\n",
       "    <tr>\n",
       "      <th>3</th>\n",
       "      <td>1</td>\n",
       "      <td>0</td>\n",
       "      <td>0</td>\n",
       "      <td>0</td>\n",
       "      <td>0</td>\n",
       "      <td>0</td>\n",
       "      <td>0</td>\n",
       "      <td>0</td>\n",
       "      <td>0</td>\n",
       "      <td>0</td>\n",
       "      <td>0</td>\n",
       "      <td>0</td>\n",
       "    </tr>\n",
       "    <tr>\n",
       "      <th>4</th>\n",
       "      <td>1</td>\n",
       "      <td>0</td>\n",
       "      <td>0</td>\n",
       "      <td>0</td>\n",
       "      <td>0</td>\n",
       "      <td>0</td>\n",
       "      <td>0</td>\n",
       "      <td>0</td>\n",
       "      <td>0</td>\n",
       "      <td>0</td>\n",
       "      <td>0</td>\n",
       "      <td>0</td>\n",
       "    </tr>\n",
       "    <tr>\n",
       "      <th>...</th>\n",
       "      <td>...</td>\n",
       "      <td>...</td>\n",
       "      <td>...</td>\n",
       "      <td>...</td>\n",
       "      <td>...</td>\n",
       "      <td>...</td>\n",
       "      <td>...</td>\n",
       "      <td>...</td>\n",
       "      <td>...</td>\n",
       "      <td>...</td>\n",
       "      <td>...</td>\n",
       "      <td>...</td>\n",
       "    </tr>\n",
       "    <tr>\n",
       "      <th>10432</th>\n",
       "      <td>0</td>\n",
       "      <td>0</td>\n",
       "      <td>0</td>\n",
       "      <td>0</td>\n",
       "      <td>0</td>\n",
       "      <td>0</td>\n",
       "      <td>0</td>\n",
       "      <td>0</td>\n",
       "      <td>0</td>\n",
       "      <td>0</td>\n",
       "      <td>1</td>\n",
       "      <td>0</td>\n",
       "    </tr>\n",
       "    <tr>\n",
       "      <th>10433</th>\n",
       "      <td>1</td>\n",
       "      <td>0</td>\n",
       "      <td>0</td>\n",
       "      <td>0</td>\n",
       "      <td>0</td>\n",
       "      <td>0</td>\n",
       "      <td>0</td>\n",
       "      <td>0</td>\n",
       "      <td>0</td>\n",
       "      <td>0</td>\n",
       "      <td>0</td>\n",
       "      <td>0</td>\n",
       "    </tr>\n",
       "    <tr>\n",
       "      <th>10434</th>\n",
       "      <td>1</td>\n",
       "      <td>0</td>\n",
       "      <td>0</td>\n",
       "      <td>0</td>\n",
       "      <td>0</td>\n",
       "      <td>0</td>\n",
       "      <td>0</td>\n",
       "      <td>0</td>\n",
       "      <td>0</td>\n",
       "      <td>0</td>\n",
       "      <td>0</td>\n",
       "      <td>0</td>\n",
       "    </tr>\n",
       "    <tr>\n",
       "      <th>10435</th>\n",
       "      <td>0</td>\n",
       "      <td>0</td>\n",
       "      <td>0</td>\n",
       "      <td>0</td>\n",
       "      <td>0</td>\n",
       "      <td>1</td>\n",
       "      <td>0</td>\n",
       "      <td>0</td>\n",
       "      <td>0</td>\n",
       "      <td>0</td>\n",
       "      <td>0</td>\n",
       "      <td>0</td>\n",
       "    </tr>\n",
       "    <tr>\n",
       "      <th>10436</th>\n",
       "      <td>0</td>\n",
       "      <td>0</td>\n",
       "      <td>0</td>\n",
       "      <td>0</td>\n",
       "      <td>0</td>\n",
       "      <td>1</td>\n",
       "      <td>0</td>\n",
       "      <td>0</td>\n",
       "      <td>0</td>\n",
       "      <td>0</td>\n",
       "      <td>0</td>\n",
       "      <td>0</td>\n",
       "    </tr>\n",
       "  </tbody>\n",
       "</table>\n",
       "<p>10437 rows × 12 columns</p>\n",
       "</div>"
      ],
      "text/plain": [
       "       A  B  C  D  E  F  G  H  I  W  X  Y\n",
       "0      1  0  0  0  0  0  0  0  0  0  0  0\n",
       "1      0  0  0  0  0  0  0  0  1  0  0  0\n",
       "2      0  0  0  0  0  0  0  0  1  0  0  0\n",
       "3      1  0  0  0  0  0  0  0  0  0  0  0\n",
       "4      1  0  0  0  0  0  0  0  0  0  0  0\n",
       "...   .. .. .. .. .. .. .. .. .. .. .. ..\n",
       "10432  0  0  0  0  0  0  0  0  0  0  1  0\n",
       "10433  1  0  0  0  0  0  0  0  0  0  0  0\n",
       "10434  1  0  0  0  0  0  0  0  0  0  0  0\n",
       "10435  0  0  0  0  0  1  0  0  0  0  0  0\n",
       "10436  0  0  0  0  0  1  0  0  0  0  0  0\n",
       "\n",
       "[10437 rows x 12 columns]"
      ]
     },
     "execution_count": 33,
     "metadata": {},
     "output_type": "execute_result"
    }
   ],
   "source": [
    "ovo_pred_bin = pd.get_dummies(ovo_pred)\n",
    "ovo_pred_bin"
   ]
  },
  {
   "cell_type": "code",
   "execution_count": 34,
   "metadata": {},
   "outputs": [
    {
     "name": "stdout",
     "output_type": "stream",
     "text": [
      "Accuracy of OvO classifier is 0.5720992622401073.\n",
      "Confusion matrix of OvO classifier: \n",
      " [[[ 2670  3481]\n",
      "  [  243  4043]]\n",
      "\n",
      " [[10432     0]\n",
      "  [    0     5]]\n",
      "\n",
      " [[10307    27]\n",
      "  [  103     0]]\n",
      "\n",
      " [[10078     6]\n",
      "  [  353     0]]\n",
      "\n",
      " [[ 9101   241]\n",
      "  [  768   327]]\n",
      "\n",
      " [[ 8163   312]\n",
      "  [ 1755   207]]\n",
      "\n",
      " [[ 9987     3]\n",
      "  [  440     7]]\n",
      "\n",
      " [[ 9810   107]\n",
      "  [  375   145]]\n",
      "\n",
      " [[ 9473   132]\n",
      "  [  109   723]]\n",
      "\n",
      " [[10381    11]\n",
      "  [   45     0]]\n",
      "\n",
      " [[ 9829    86]\n",
      "  [  179   343]]\n",
      "\n",
      " [[10110    60]\n",
      "  [   96   171]]]\n"
     ]
    }
   ],
   "source": [
    "ovo_accuracy = accuracy_score(bin_y_test, ovo_pred_bin)\n",
    "ovo_confusion_matrix = multilabel_confusion_matrix(bin_y_test, ovo_pred_bin)\n",
    "\n",
    "\n",
    "print(\"Accuracy of OvO classifier is {}.\".format(ovo_accuracy))\n",
    "print(\"Confusion matrix of OvO classifier: \\n {}\".format(ovo_confusion_matrix))"
   ]
  },
  {
   "cell_type": "markdown",
   "metadata": {},
   "source": [
    "Question 4.1: [LogisticRegression](https://scikit-learn.org/stable/modules/generated/sklearn.linear_model.LogisticRegression.html) within sklearn supports two approaches for solving multi-class problems: 'ovr', 'multinomial'. Try out both approaches, and evaluate compare the performance agains what you developed in questions 2 and 3."
   ]
  },
  {
   "cell_type": "code",
   "execution_count": 35,
   "metadata": {},
   "outputs": [
    {
     "name": "stdout",
     "output_type": "stream",
     "text": [
      "Accuracy of OvO classifier is 0.5308996838171889.\n",
      "Confusion matrix of OvO classifier: \n",
      " [[[ 1917  4234]\n",
      "  [  127  4159]]\n",
      "\n",
      " [[10432     0]\n",
      "  [    0     5]]\n",
      "\n",
      " [[10334     0]\n",
      "  [  103     0]]\n",
      "\n",
      " [[10084     0]\n",
      "  [  353     0]]\n",
      "\n",
      " [[ 9231   111]\n",
      "  [ 1019    76]]\n",
      "\n",
      " [[ 8244   231]\n",
      "  [ 1907    55]]\n",
      "\n",
      " [[ 9990     0]\n",
      "  [  447     0]]\n",
      "\n",
      " [[ 9872    45]\n",
      "  [  480    40]]\n",
      "\n",
      " [[ 9450   155]\n",
      "  [   99   733]]\n",
      "\n",
      " [[10392     0]\n",
      "  [   45     0]]\n",
      "\n",
      " [[ 9839    76]\n",
      "  [  175   347]]\n",
      "\n",
      " [[10126    44]\n",
      "  [  141   126]]]\n"
     ]
    }
   ],
   "source": [
    "clf = LogisticRegression(multi_class='ovr').fit(x_train, y_train)\n",
    "y_ovr = pd.DataFrame(clf.predict_proba(x_test))\n",
    "\n",
    "# binarize output\n",
    "y_ovr = y_ovr.eq(y_ovr.where(y_ovr != 0).max(1), axis=0).astype(int)\n",
    "\n",
    "ovr_accuracy = accuracy_score(bin_y_test, y_ovr)\n",
    "ovr_confusion_matrix = multilabel_confusion_matrix(bin_y_test, y_ovr)\n",
    "\n",
    "\n",
    "print(\"Accuracy of OvO classifier is {}.\".format(ovr_accuracy))\n",
    "print(\"Confusion matrix of OvO classifier: \\n {}\".format(ovr_confusion_matrix))"
   ]
  },
  {
   "cell_type": "code",
   "execution_count": 36,
   "metadata": {},
   "outputs": [
    {
     "name": "stdout",
     "output_type": "stream",
     "text": [
      "Accuracy of OvO classifier is 0.5615598352016863.\n",
      "Confusion matrix of OvO classifier: \n",
      " [[[ 2569  3582]\n",
      "  [  245  4041]]\n",
      "\n",
      " [[10432     0]\n",
      "  [    0     5]]\n",
      "\n",
      " [[10331     3]\n",
      "  [  103     0]]\n",
      "\n",
      " [[10079     5]\n",
      "  [  353     0]]\n",
      "\n",
      " [[ 9103   239]\n",
      "  [  825   270]]\n",
      "\n",
      " [[ 8163   312]\n",
      "  [ 1784   178]]\n",
      "\n",
      " [[ 9990     0]\n",
      "  [  447     0]]\n",
      "\n",
      " [[ 9807   110]\n",
      "  [  424    96]]\n",
      "\n",
      " [[ 9485   120]\n",
      "  [  106   726]]\n",
      "\n",
      " [[10386     6]\n",
      "  [   43     2]]\n",
      "\n",
      " [[ 9789   126]\n",
      "  [  150   372]]\n",
      "\n",
      " [[10097    73]\n",
      "  [   96   171]]]\n"
     ]
    }
   ],
   "source": [
    "#class = multinomial\n",
    "clf = LogisticRegression(multi_class='multinomial', max_iter=500).fit(x_train, y_train)\n",
    "y_multinomial = pd.DataFrame(clf.predict_proba(x_test))\n",
    "\n",
    "# binarize output\n",
    "y_multinomial = y_multinomial.eq(y_multinomial.where(y_multinomial != 0).max(1), axis=0).astype(int)\n",
    "\n",
    "multinomial_accuracy = accuracy_score(bin_y_test, y_multinomial)\n",
    "multinomial_confusion_matrix = multilabel_confusion_matrix(bin_y_test, y_multinomial)\n",
    "\n",
    "\n",
    "print(\"Accuracy of OvO classifier is {}.\".format(multinomial_accuracy))\n",
    "print(\"Confusion matrix of OvO classifier: \\n {}\".format(multinomial_confusion_matrix))"
   ]
  },
  {
   "cell_type": "markdown",
   "metadata": {},
   "source": [
    "Question 4: Create a new text cell in your Notebook: Complete a 50-100 word summary (or short description of your thinking in applying this week's learning to the solution) of your experience in this assignment. Include: What was your incoming experience with this model, if any? what steps you took, what obstacles you encountered. how you link this exercise to real-world, machine learning problem-solving. (What steps were missing? What else do you need to learn?) This summary allows your instructor to know how you are doing and allot points for your effort in thinking and planning, and making connections to real-world work."
   ]
  },
  {
   "cell_type": "markdown",
   "metadata": {
    "collapsed": true
   },
   "source": [
    "I had experience training multilabel classification models before, but it was useful to have to implement the One-vs-All and One-vs-One strategies myself. Most of the difficulty came from data prep. I was confused as to why we were asked to z-normalize data that had already been z-normalized. Also, I had to come up with a hackish way to binarize my predictions in order to use sklearn's accuracy score. Normally, something simple like pd.get_dummies() would work just fine; the problem is that, for some of the models, there would be a few output classes that the model never once predicted. So, those columns would be missing from the output matrix, which would give it the incorrect shape. "
   ]
  },
  {
   "cell_type": "code",
   "execution_count": null,
   "metadata": {
    "collapsed": true
   },
   "outputs": [],
   "source": []
  }
 ],
 "metadata": {
  "kernelspec": {
   "display_name": "Python 3 [3.7]",
   "language": "python",
   "name": "python3"
  },
  "language_info": {
   "codemirror_mode": {
    "name": "ipython",
    "version": 3
   },
   "file_extension": ".py",
   "mimetype": "text/x-python",
   "name": "python",
   "nbconvert_exporter": "python",
   "pygments_lexer": "ipython3",
   "version": "3.7.5"
  }
 },
 "nbformat": 4,
 "nbformat_minor": 2
}
