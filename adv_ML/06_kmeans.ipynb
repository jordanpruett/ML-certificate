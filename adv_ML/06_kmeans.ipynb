{
 "cells": [
  {
   "cell_type": "markdown",
   "metadata": {},
   "source": [
    "# Clustering\n",
    "\n",
    "In this assignment, you will implement a K-Means Clustering algorithm from scratch and compare the results to existing sklearn algorithm."
   ]
  },
  {
   "cell_type": "code",
   "execution_count": 1,
   "metadata": {},
   "outputs": [],
   "source": [
    "%matplotlib inline\n",
    "import numpy as np\n",
    "import pandas as pd\n",
    "import matplotlib.pyplot as plt\n",
    "import seaborn as sns"
   ]
  },
  {
   "cell_type": "markdown",
   "metadata": {},
   "source": [
    "Question 1.1: Write a method that determine Labels from Points and ClusterCentroids, and return a list of a label for each point"
   ]
  },
  {
   "cell_type": "code",
   "execution_count": 2,
   "metadata": {
    "collapsed": true,
    "scrolled": true
   },
   "outputs": [],
   "source": [
    "def FindLabelOfClosest(Points, ClusterCentroids): # determine Labels from Points and ClusterCentroids\n",
    "    #TODO\n",
    "    NumberOfClusters, NumberOfDimensions = ClusterCentroids.shape # dimensions of the initial Centroids\n",
    "\n",
    "    NumberOfPoints, NumberOfDimensions = Points.shape\n",
    "    Labels = []\n",
    "    for PointNumber in range(NumberOfPoints): # assign labels to all data points  \n",
    "        Distances = [] # centroid distances\n",
    "        \n",
    "        for ClusterNumber in range(NumberOfClusters): # for each cluster\n",
    "            centroid = ClusterCentroids[ClusterNumber]\n",
    "            point = Points[PointNumber]\n",
    "            # Get distances for each cluster\n",
    "            Distances.append(np.linalg.norm(point - centroid))           \n",
    "        Labels.append(np.argmin(Distances))\n",
    "    return Labels # return the a label for each point\n"
   ]
  },
  {
   "cell_type": "code",
   "execution_count": 3,
   "metadata": {},
   "outputs": [
    {
     "data": {
      "text/plain": [
       "[0, 1, 2, 0]"
      ]
     },
     "execution_count": 3,
     "metadata": {},
     "output_type": "execute_result"
    }
   ],
   "source": [
    "points = np.array([\n",
    "    [5, 3],\n",
    "    [10, 5],\n",
    "    [54, 30],\n",
    "    [-10, -10]\n",
    "])\n",
    "\n",
    "centroids = np.array([\n",
    "    [0, 0],\n",
    "    [10, 10],\n",
    "    [50, 50]\n",
    "])\n",
    "\n",
    "FindLabelOfClosest(points, centroids)"
   ]
  },
  {
   "cell_type": "markdown",
   "metadata": {},
   "source": [
    "Question 1.2: Write a method that determine centroid of Points with the same label"
   ]
  },
  {
   "cell_type": "code",
   "execution_count": 4,
   "metadata": {
    "collapsed": true
   },
   "outputs": [],
   "source": [
    "def CalculateClusterCentroid(Points, Labels): # determine centroid of Points with the same label\n",
    "    #TODO\n",
    "    ClusterLabels = np.unique(Labels) # names of labels\n",
    "    NumberOfPoints, NumberOfDimensions = Points.shape\n",
    "    ClusterCentroids = np.empty((len(ClusterLabels), NumberOfDimensions))\n",
    "    for ClusterNumber in ClusterLabels: # for each cluster\n",
    "        # get mean for each label\n",
    "        cluster_points = Points[Labels == ClusterNumber]\n",
    "        ClusterCentroids[ClusterNumber, :] = np.mean(cluster_points, axis=0)\n",
    "    return ClusterCentroids # return the a label for each point"
   ]
  },
  {
   "cell_type": "markdown",
   "metadata": {},
   "source": [
    "Question 1.3: Put it all together as such. K-means algorithm partitions the input data into K clusters by iterating between the following two steps:\n",
    "- Compute the cluster center by computing the arithmetic mean of all the points belonging to the cluster.\n",
    "- Assign each point to the closest cluster center."
   ]
  },
  {
   "cell_type": "code",
   "execution_count": 52,
   "metadata": {
    "collapsed": true
   },
   "outputs": [],
   "source": [
    "def KMeans(Points, ClusterCentroidGuesses):\n",
    "    #TODO\n",
    "    ClusterCentroids = ClusterCentroidGuesses.copy()\n",
    "    Labels_Previous = None\n",
    "    # Get starting set of labels\n",
    "    Labels = FindLabelOfClosest(Points, ClusterCentroids)\n",
    "    while not np.array_equal(Labels, Labels_Previous):\n",
    "        # Re-calculate cluster centers based on new set of labels\n",
    "        ClusterCentroids = CalculateClusterCentroid(Points, Labels)\n",
    "        Labels_Previous = Labels.copy() # Must make a deep copy\n",
    "        # Determine new labels based on new cluster centers\n",
    "        Labels = FindLabelOfClosest(Points, ClusterCentroids)\n",
    "    return Labels, ClusterCentroids"
   ]
  },
  {
   "cell_type": "code",
   "execution_count": 6,
   "metadata": {},
   "outputs": [
    {
     "data": {
      "text/html": [
       "<div>\n",
       "<style scoped>\n",
       "    .dataframe tbody tr th:only-of-type {\n",
       "        vertical-align: middle;\n",
       "    }\n",
       "\n",
       "    .dataframe tbody tr th {\n",
       "        vertical-align: top;\n",
       "    }\n",
       "\n",
       "    .dataframe thead th {\n",
       "        text-align: right;\n",
       "    }\n",
       "</style>\n",
       "<table border=\"1\" class=\"dataframe\">\n",
       "  <thead>\n",
       "    <tr style=\"text-align: right;\">\n",
       "      <th></th>\n",
       "      <th>Row ID</th>\n",
       "      <th>Order ID</th>\n",
       "      <th>Order Date</th>\n",
       "      <th>Ship Date</th>\n",
       "      <th>Ship Mode</th>\n",
       "      <th>Customer ID</th>\n",
       "      <th>Customer Name</th>\n",
       "      <th>Segment</th>\n",
       "      <th>Country</th>\n",
       "      <th>City</th>\n",
       "      <th>...</th>\n",
       "      <th>Postal Code</th>\n",
       "      <th>Region</th>\n",
       "      <th>Product ID</th>\n",
       "      <th>Category</th>\n",
       "      <th>Sub-Category</th>\n",
       "      <th>Product Name</th>\n",
       "      <th>Sales</th>\n",
       "      <th>Quantity</th>\n",
       "      <th>Discount</th>\n",
       "      <th>Profit</th>\n",
       "    </tr>\n",
       "  </thead>\n",
       "  <tbody>\n",
       "    <tr>\n",
       "      <th>0</th>\n",
       "      <td>1</td>\n",
       "      <td>CA-2016-152156</td>\n",
       "      <td>2016-11-08</td>\n",
       "      <td>11/11/2016</td>\n",
       "      <td>Second Class</td>\n",
       "      <td>CG-12520</td>\n",
       "      <td>Claire Gute</td>\n",
       "      <td>Consumer</td>\n",
       "      <td>United States</td>\n",
       "      <td>Henderson</td>\n",
       "      <td>...</td>\n",
       "      <td>42420</td>\n",
       "      <td>South</td>\n",
       "      <td>FUR-BO-10001798</td>\n",
       "      <td>Furniture</td>\n",
       "      <td>Bookcases</td>\n",
       "      <td>Bush Somerset Collection Bookcase</td>\n",
       "      <td>261.9600</td>\n",
       "      <td>2</td>\n",
       "      <td>0.00</td>\n",
       "      <td>41.9136</td>\n",
       "    </tr>\n",
       "    <tr>\n",
       "      <th>1</th>\n",
       "      <td>2</td>\n",
       "      <td>CA-2016-152156</td>\n",
       "      <td>2016-11-08</td>\n",
       "      <td>11/11/2016</td>\n",
       "      <td>Second Class</td>\n",
       "      <td>CG-12520</td>\n",
       "      <td>Claire Gute</td>\n",
       "      <td>Consumer</td>\n",
       "      <td>United States</td>\n",
       "      <td>Henderson</td>\n",
       "      <td>...</td>\n",
       "      <td>42420</td>\n",
       "      <td>South</td>\n",
       "      <td>FUR-CH-10000454</td>\n",
       "      <td>Furniture</td>\n",
       "      <td>Chairs</td>\n",
       "      <td>Hon Deluxe Fabric Upholstered Stacking Chairs,...</td>\n",
       "      <td>731.9400</td>\n",
       "      <td>3</td>\n",
       "      <td>0.00</td>\n",
       "      <td>219.5820</td>\n",
       "    </tr>\n",
       "    <tr>\n",
       "      <th>2</th>\n",
       "      <td>3</td>\n",
       "      <td>CA-2016-138688</td>\n",
       "      <td>2016-06-12</td>\n",
       "      <td>6/16/2016</td>\n",
       "      <td>Second Class</td>\n",
       "      <td>DV-13045</td>\n",
       "      <td>Darrin Van Huff</td>\n",
       "      <td>Corporate</td>\n",
       "      <td>United States</td>\n",
       "      <td>Los Angeles</td>\n",
       "      <td>...</td>\n",
       "      <td>90036</td>\n",
       "      <td>West</td>\n",
       "      <td>OFF-LA-10000240</td>\n",
       "      <td>Office Supplies</td>\n",
       "      <td>Labels</td>\n",
       "      <td>Self-Adhesive Address Labels for Typewriters b...</td>\n",
       "      <td>14.6200</td>\n",
       "      <td>2</td>\n",
       "      <td>0.00</td>\n",
       "      <td>6.8714</td>\n",
       "    </tr>\n",
       "    <tr>\n",
       "      <th>3</th>\n",
       "      <td>4</td>\n",
       "      <td>US-2015-108966</td>\n",
       "      <td>2015-10-11</td>\n",
       "      <td>10/18/2015</td>\n",
       "      <td>Standard Class</td>\n",
       "      <td>SO-20335</td>\n",
       "      <td>Sean O'Donnell</td>\n",
       "      <td>Consumer</td>\n",
       "      <td>United States</td>\n",
       "      <td>Fort Lauderdale</td>\n",
       "      <td>...</td>\n",
       "      <td>33311</td>\n",
       "      <td>South</td>\n",
       "      <td>FUR-TA-10000577</td>\n",
       "      <td>Furniture</td>\n",
       "      <td>Tables</td>\n",
       "      <td>Bretford CR4500 Series Slim Rectangular Table</td>\n",
       "      <td>957.5775</td>\n",
       "      <td>5</td>\n",
       "      <td>0.45</td>\n",
       "      <td>-383.0310</td>\n",
       "    </tr>\n",
       "    <tr>\n",
       "      <th>4</th>\n",
       "      <td>5</td>\n",
       "      <td>US-2015-108966</td>\n",
       "      <td>2015-10-11</td>\n",
       "      <td>10/18/2015</td>\n",
       "      <td>Standard Class</td>\n",
       "      <td>SO-20335</td>\n",
       "      <td>Sean O'Donnell</td>\n",
       "      <td>Consumer</td>\n",
       "      <td>United States</td>\n",
       "      <td>Fort Lauderdale</td>\n",
       "      <td>...</td>\n",
       "      <td>33311</td>\n",
       "      <td>South</td>\n",
       "      <td>OFF-ST-10000760</td>\n",
       "      <td>Office Supplies</td>\n",
       "      <td>Storage</td>\n",
       "      <td>Eldon Fold 'N Roll Cart System</td>\n",
       "      <td>22.3680</td>\n",
       "      <td>2</td>\n",
       "      <td>0.20</td>\n",
       "      <td>2.5164</td>\n",
       "    </tr>\n",
       "  </tbody>\n",
       "</table>\n",
       "<p>5 rows × 21 columns</p>\n",
       "</div>"
      ],
      "text/plain": [
       "   Row ID        Order ID Order Date   Ship Date       Ship Mode Customer ID  \\\n",
       "0       1  CA-2016-152156 2016-11-08  11/11/2016    Second Class    CG-12520   \n",
       "1       2  CA-2016-152156 2016-11-08  11/11/2016    Second Class    CG-12520   \n",
       "2       3  CA-2016-138688 2016-06-12   6/16/2016    Second Class    DV-13045   \n",
       "3       4  US-2015-108966 2015-10-11  10/18/2015  Standard Class    SO-20335   \n",
       "4       5  US-2015-108966 2015-10-11  10/18/2015  Standard Class    SO-20335   \n",
       "\n",
       "     Customer Name    Segment        Country             City  ...  \\\n",
       "0      Claire Gute   Consumer  United States        Henderson  ...   \n",
       "1      Claire Gute   Consumer  United States        Henderson  ...   \n",
       "2  Darrin Van Huff  Corporate  United States      Los Angeles  ...   \n",
       "3   Sean O'Donnell   Consumer  United States  Fort Lauderdale  ...   \n",
       "4   Sean O'Donnell   Consumer  United States  Fort Lauderdale  ...   \n",
       "\n",
       "  Postal Code  Region       Product ID         Category Sub-Category  \\\n",
       "0       42420   South  FUR-BO-10001798        Furniture    Bookcases   \n",
       "1       42420   South  FUR-CH-10000454        Furniture       Chairs   \n",
       "2       90036    West  OFF-LA-10000240  Office Supplies       Labels   \n",
       "3       33311   South  FUR-TA-10000577        Furniture       Tables   \n",
       "4       33311   South  OFF-ST-10000760  Office Supplies      Storage   \n",
       "\n",
       "                                        Product Name     Sales  Quantity  \\\n",
       "0                  Bush Somerset Collection Bookcase  261.9600         2   \n",
       "1  Hon Deluxe Fabric Upholstered Stacking Chairs,...  731.9400         3   \n",
       "2  Self-Adhesive Address Labels for Typewriters b...   14.6200         2   \n",
       "3      Bretford CR4500 Series Slim Rectangular Table  957.5775         5   \n",
       "4                     Eldon Fold 'N Roll Cart System   22.3680         2   \n",
       "\n",
       "   Discount    Profit  \n",
       "0      0.00   41.9136  \n",
       "1      0.00  219.5820  \n",
       "2      0.00    6.8714  \n",
       "3      0.45 -383.0310  \n",
       "4      0.20    2.5164  \n",
       "\n",
       "[5 rows x 21 columns]"
      ]
     },
     "execution_count": 6,
     "metadata": {},
     "output_type": "execute_result"
    }
   ],
   "source": [
    "StoreTxn = pd.read_csv(\"./Superstore Transaction data.csv\")\n",
    "StoreTxn['Order Date'] = pd.to_datetime(StoreTxn['Order Date'] )\n",
    "StoreTxn.head()"
   ]
  },
  {
   "cell_type": "code",
   "execution_count": 7,
   "metadata": {},
   "outputs": [
    {
     "data": {
      "text/plain": [
       "Index(['Row ID', 'Order ID', 'Order Date', 'Ship Date', 'Ship Mode',\n",
       "       'Customer ID', 'Customer Name', 'Segment', 'Country', 'City', 'State',\n",
       "       'Postal Code', 'Region', 'Product ID', 'Category', 'Sub-Category',\n",
       "       'Product Name', 'Sales', 'Quantity', 'Discount', 'Profit'],\n",
       "      dtype='object')"
      ]
     },
     "execution_count": 7,
     "metadata": {},
     "output_type": "execute_result"
    }
   ],
   "source": [
    "StoreTxn.columns"
   ]
  },
  {
   "cell_type": "markdown",
   "metadata": {},
   "source": [
    "Extract RFM features from the transaction data:\n",
    "- Recency: when was the last purchase they made\n",
    "- Frequency: how often do they make a purchase in the last month (or any given window you choose)\n",
    "- Monetary: how much money did they spend in the last month"
   ]
  },
  {
   "cell_type": "markdown",
   "metadata": {},
   "source": [
    "Question 2.1:\n",
    "- Use groupby to summarize the quantity and dollar columns by user_id and date\n",
    "- Name the aggregated data txn_agg\n",
    "- Reset the index for txn_agg to the default and user_id and date to dataframe columns\n",
    "- Confirm changes"
   ]
  },
  {
   "cell_type": "code",
   "execution_count": 8,
   "metadata": {
    "scrolled": true
   },
   "outputs": [
    {
     "data": {
      "text/html": [
       "<div>\n",
       "<style scoped>\n",
       "    .dataframe tbody tr th:only-of-type {\n",
       "        vertical-align: middle;\n",
       "    }\n",
       "\n",
       "    .dataframe tbody tr th {\n",
       "        vertical-align: top;\n",
       "    }\n",
       "\n",
       "    .dataframe thead th {\n",
       "        text-align: right;\n",
       "    }\n",
       "</style>\n",
       "<table border=\"1\" class=\"dataframe\">\n",
       "  <thead>\n",
       "    <tr style=\"text-align: right;\">\n",
       "      <th></th>\n",
       "      <th>Customer ID</th>\n",
       "      <th>Order Date</th>\n",
       "      <th>Quantity</th>\n",
       "      <th>Sales</th>\n",
       "    </tr>\n",
       "  </thead>\n",
       "  <tbody>\n",
       "    <tr>\n",
       "      <th>0</th>\n",
       "      <td>AA-10315</td>\n",
       "      <td>2014-03-31</td>\n",
       "      <td>4</td>\n",
       "      <td>726.548</td>\n",
       "    </tr>\n",
       "    <tr>\n",
       "      <th>1</th>\n",
       "      <td>AA-10315</td>\n",
       "      <td>2014-09-15</td>\n",
       "      <td>5</td>\n",
       "      <td>29.500</td>\n",
       "    </tr>\n",
       "    <tr>\n",
       "      <th>2</th>\n",
       "      <td>AA-10315</td>\n",
       "      <td>2015-10-04</td>\n",
       "      <td>2</td>\n",
       "      <td>26.960</td>\n",
       "    </tr>\n",
       "    <tr>\n",
       "      <th>3</th>\n",
       "      <td>AA-10315</td>\n",
       "      <td>2016-03-03</td>\n",
       "      <td>14</td>\n",
       "      <td>4406.072</td>\n",
       "    </tr>\n",
       "    <tr>\n",
       "      <th>4</th>\n",
       "      <td>AA-10315</td>\n",
       "      <td>2017-06-29</td>\n",
       "      <td>5</td>\n",
       "      <td>374.480</td>\n",
       "    </tr>\n",
       "    <tr>\n",
       "      <th>5</th>\n",
       "      <td>AA-10375</td>\n",
       "      <td>2014-04-21</td>\n",
       "      <td>5</td>\n",
       "      <td>16.520</td>\n",
       "    </tr>\n",
       "    <tr>\n",
       "      <th>6</th>\n",
       "      <td>AA-10375</td>\n",
       "      <td>2014-10-24</td>\n",
       "      <td>3</td>\n",
       "      <td>34.272</td>\n",
       "    </tr>\n",
       "    <tr>\n",
       "      <th>7</th>\n",
       "      <td>AA-10375</td>\n",
       "      <td>2015-02-03</td>\n",
       "      <td>5</td>\n",
       "      <td>178.370</td>\n",
       "    </tr>\n",
       "    <tr>\n",
       "      <th>8</th>\n",
       "      <td>AA-10375</td>\n",
       "      <td>2015-05-08</td>\n",
       "      <td>2</td>\n",
       "      <td>5.248</td>\n",
       "    </tr>\n",
       "    <tr>\n",
       "      <th>9</th>\n",
       "      <td>AA-10375</td>\n",
       "      <td>2015-11-13</td>\n",
       "      <td>6</td>\n",
       "      <td>84.960</td>\n",
       "    </tr>\n",
       "  </tbody>\n",
       "</table>\n",
       "</div>"
      ],
      "text/plain": [
       "  Customer ID Order Date  Quantity     Sales\n",
       "0    AA-10315 2014-03-31         4   726.548\n",
       "1    AA-10315 2014-09-15         5    29.500\n",
       "2    AA-10315 2015-10-04         2    26.960\n",
       "3    AA-10315 2016-03-03        14  4406.072\n",
       "4    AA-10315 2017-06-29         5   374.480\n",
       "5    AA-10375 2014-04-21         5    16.520\n",
       "6    AA-10375 2014-10-24         3    34.272\n",
       "7    AA-10375 2015-02-03         5   178.370\n",
       "8    AA-10375 2015-05-08         2     5.248\n",
       "9    AA-10375 2015-11-13         6    84.960"
      ]
     },
     "execution_count": 8,
     "metadata": {},
     "output_type": "execute_result"
    }
   ],
   "source": [
    "#TODO #Summarize quantity and dollar by user_id - date.\n",
    "agg = {\n",
    "    'Quantity': 'sum',\n",
    "    'Sales': 'sum'\n",
    "}\n",
    "txn_agg = StoreTxn.groupby(['Customer ID', 'Order Date']).agg(agg).reset_index(drop=False)\n",
    "txn_agg.head(10)"
   ]
  },
  {
   "cell_type": "markdown",
   "metadata": {},
   "source": [
    "Question 2.2:Using the aggregated data, obtain recency, frequency and monetary features for both dollar and quantity. Use a 7-day moving window for frequency and monetary. Call your new features last_visit_ndays (recency) quantity_roll_sum_7D (frequency) and dollar_roll_sum_7D (monetary)"
   ]
  },
  {
   "cell_type": "code",
   "execution_count": 9,
   "metadata": {
    "scrolled": true
   },
   "outputs": [
    {
     "name": "stdout",
     "output_type": "stream",
     "text": [
      "   last_visit_ndays\n",
      "0               NaN\n",
      "1             168.0\n",
      "2             384.0\n",
      "3             151.0\n",
      "4             483.0\n",
      "5               NaN\n",
      "6             186.0\n",
      "7             102.0\n",
      "8              94.0\n",
      "9             189.0\n",
      "\n",
      "  Customer ID Order Date  quantity_roll_sum_7D  sales_roll_sum_7D\n",
      "0    AA-10315 2014-03-31                   4.0            726.548\n",
      "1    AA-10315 2014-09-15                   5.0             29.500\n",
      "2    AA-10315 2015-10-04                   2.0             26.960\n",
      "3    AA-10315 2016-03-03                  14.0           4406.072\n",
      "4    AA-10315 2017-06-29                   5.0            374.480\n",
      "5    AA-10375 2014-04-21                   5.0             16.520\n",
      "6    AA-10375 2014-10-24                   3.0             34.272\n",
      "7    AA-10375 2015-02-03                   5.0            178.370\n",
      "8    AA-10375 2015-05-08                   2.0              5.248\n",
      "9    AA-10375 2015-11-13                   6.0             84.960\n",
      "\n"
     ]
    }
   ],
   "source": [
    "#TODO # Group the data by user_id and calculate lag as the difference between the current and previous date (lag by one period)\n",
    "\n",
    "last = txn_agg.groupby('Customer ID')['Order Date'].diff().dt.days\n",
    "last = pd.DataFrame(last)\n",
    "last = last.rename(columns = {'Order Date' : 'last_visit_ndays'}) # Name the lagged date values last_visit_ndays\n",
    "print(last.head(10), end='\\n\\n')\n",
    "\n",
    "#TODO # Group the data by user_id.  Apply a 7 day offset to implement a moving 7-day window totaling quantity and dollars sold within each time window.\n",
    "roll = txn_agg.groupby('Customer ID').rolling('7d', on='Order Date').agg(agg).reset_index()\n",
    "roll = roll.rename(columns = {'Quantity' : 'quantity_roll_sum_7D', 'Sales' : 'sales_roll_sum_7D'}) # Name the resulting data values quantity_roll_sum_7D and dollar_roll_sum_7D\n",
    "print(roll.head(10), end='\\n\\n')"
   ]
  },
  {
   "cell_type": "markdown",
   "metadata": {},
   "source": [
    "Question 2.3: Combine all three features into a single DataFrame and call it txn_roll"
   ]
  },
  {
   "cell_type": "code",
   "execution_count": 10,
   "metadata": {
    "scrolled": true
   },
   "outputs": [
    {
     "name": "stdout",
     "output_type": "stream",
     "text": [
      "Customer ID                     object\n",
      "Order Date              datetime64[ns]\n",
      "quantity_roll_sum_7D           float64\n",
      "sales_roll_sum_7D              float64\n",
      "last_visit_ndays               float64\n",
      "dtype: object\n",
      "\n"
     ]
    },
    {
     "data": {
      "text/html": [
       "<div>\n",
       "<style scoped>\n",
       "    .dataframe tbody tr th:only-of-type {\n",
       "        vertical-align: middle;\n",
       "    }\n",
       "\n",
       "    .dataframe tbody tr th {\n",
       "        vertical-align: top;\n",
       "    }\n",
       "\n",
       "    .dataframe thead th {\n",
       "        text-align: right;\n",
       "    }\n",
       "</style>\n",
       "<table border=\"1\" class=\"dataframe\">\n",
       "  <thead>\n",
       "    <tr style=\"text-align: right;\">\n",
       "      <th></th>\n",
       "      <th>Customer ID</th>\n",
       "      <th>Order Date</th>\n",
       "      <th>quantity_roll_sum_7D</th>\n",
       "      <th>sales_roll_sum_7D</th>\n",
       "      <th>last_visit_ndays</th>\n",
       "    </tr>\n",
       "  </thead>\n",
       "  <tbody>\n",
       "    <tr>\n",
       "      <th>0</th>\n",
       "      <td>AA-10315</td>\n",
       "      <td>2014-03-31</td>\n",
       "      <td>4.0</td>\n",
       "      <td>726.548</td>\n",
       "      <td>NaN</td>\n",
       "    </tr>\n",
       "    <tr>\n",
       "      <th>1</th>\n",
       "      <td>AA-10315</td>\n",
       "      <td>2014-09-15</td>\n",
       "      <td>5.0</td>\n",
       "      <td>29.500</td>\n",
       "      <td>168.0</td>\n",
       "    </tr>\n",
       "    <tr>\n",
       "      <th>2</th>\n",
       "      <td>AA-10315</td>\n",
       "      <td>2015-10-04</td>\n",
       "      <td>2.0</td>\n",
       "      <td>26.960</td>\n",
       "      <td>384.0</td>\n",
       "    </tr>\n",
       "    <tr>\n",
       "      <th>3</th>\n",
       "      <td>AA-10315</td>\n",
       "      <td>2016-03-03</td>\n",
       "      <td>14.0</td>\n",
       "      <td>4406.072</td>\n",
       "      <td>151.0</td>\n",
       "    </tr>\n",
       "    <tr>\n",
       "      <th>4</th>\n",
       "      <td>AA-10315</td>\n",
       "      <td>2017-06-29</td>\n",
       "      <td>5.0</td>\n",
       "      <td>374.480</td>\n",
       "      <td>483.0</td>\n",
       "    </tr>\n",
       "    <tr>\n",
       "      <th>5</th>\n",
       "      <td>AA-10375</td>\n",
       "      <td>2014-04-21</td>\n",
       "      <td>5.0</td>\n",
       "      <td>16.520</td>\n",
       "      <td>NaN</td>\n",
       "    </tr>\n",
       "    <tr>\n",
       "      <th>6</th>\n",
       "      <td>AA-10375</td>\n",
       "      <td>2014-10-24</td>\n",
       "      <td>3.0</td>\n",
       "      <td>34.272</td>\n",
       "      <td>186.0</td>\n",
       "    </tr>\n",
       "    <tr>\n",
       "      <th>7</th>\n",
       "      <td>AA-10375</td>\n",
       "      <td>2015-02-03</td>\n",
       "      <td>5.0</td>\n",
       "      <td>178.370</td>\n",
       "      <td>102.0</td>\n",
       "    </tr>\n",
       "    <tr>\n",
       "      <th>8</th>\n",
       "      <td>AA-10375</td>\n",
       "      <td>2015-05-08</td>\n",
       "      <td>2.0</td>\n",
       "      <td>5.248</td>\n",
       "      <td>94.0</td>\n",
       "    </tr>\n",
       "    <tr>\n",
       "      <th>9</th>\n",
       "      <td>AA-10375</td>\n",
       "      <td>2015-11-13</td>\n",
       "      <td>6.0</td>\n",
       "      <td>84.960</td>\n",
       "      <td>189.0</td>\n",
       "    </tr>\n",
       "  </tbody>\n",
       "</table>\n",
       "</div>"
      ],
      "text/plain": [
       "  Customer ID Order Date  quantity_roll_sum_7D  sales_roll_sum_7D  \\\n",
       "0    AA-10315 2014-03-31                   4.0            726.548   \n",
       "1    AA-10315 2014-09-15                   5.0             29.500   \n",
       "2    AA-10315 2015-10-04                   2.0             26.960   \n",
       "3    AA-10315 2016-03-03                  14.0           4406.072   \n",
       "4    AA-10315 2017-06-29                   5.0            374.480   \n",
       "5    AA-10375 2014-04-21                   5.0             16.520   \n",
       "6    AA-10375 2014-10-24                   3.0             34.272   \n",
       "7    AA-10375 2015-02-03                   5.0            178.370   \n",
       "8    AA-10375 2015-05-08                   2.0              5.248   \n",
       "9    AA-10375 2015-11-13                   6.0             84.960   \n",
       "\n",
       "   last_visit_ndays  \n",
       "0               NaN  \n",
       "1             168.0  \n",
       "2             384.0  \n",
       "3             151.0  \n",
       "4             483.0  \n",
       "5               NaN  \n",
       "6             186.0  \n",
       "7             102.0  \n",
       "8              94.0  \n",
       "9             189.0  "
      ]
     },
     "execution_count": 10,
     "metadata": {},
     "output_type": "execute_result"
    }
   ],
   "source": [
    "#TODO # Inner join between roll (frequency and monetary fields) and last (recency fields) to create churn_roll.  Join based on index which works given that both dataframes are sorted by user_id and date.\n",
    "txn_roll = roll.merge(last, how='inner', left_index=True, right_index=True)\n",
    "\n",
    "print(txn_roll.dtypes, end='\\n\\n')\n",
    "txn_roll.head(10)\n"
   ]
  },
  {
   "cell_type": "markdown",
   "metadata": {},
   "source": [
    "Question 2.4: Use fillna to replace missing values for recency with a large value like 100 days (whatever makes business sense). HINT: You can use pd.Timedelta('100 days') to set the value."
   ]
  },
  {
   "cell_type": "code",
   "execution_count": 11,
   "metadata": {},
   "outputs": [
    {
     "data": {
      "text/html": [
       "<div>\n",
       "<style scoped>\n",
       "    .dataframe tbody tr th:only-of-type {\n",
       "        vertical-align: middle;\n",
       "    }\n",
       "\n",
       "    .dataframe tbody tr th {\n",
       "        vertical-align: top;\n",
       "    }\n",
       "\n",
       "    .dataframe thead th {\n",
       "        text-align: right;\n",
       "    }\n",
       "</style>\n",
       "<table border=\"1\" class=\"dataframe\">\n",
       "  <thead>\n",
       "    <tr style=\"text-align: right;\">\n",
       "      <th></th>\n",
       "      <th>Customer ID</th>\n",
       "      <th>Order Date</th>\n",
       "      <th>quantity_roll_sum_7D</th>\n",
       "      <th>sales_roll_sum_7D</th>\n",
       "      <th>last_visit_ndays</th>\n",
       "    </tr>\n",
       "  </thead>\n",
       "  <tbody>\n",
       "    <tr>\n",
       "      <th>0</th>\n",
       "      <td>AA-10315</td>\n",
       "      <td>2014-03-31</td>\n",
       "      <td>4.0</td>\n",
       "      <td>726.548</td>\n",
       "      <td>1000.0</td>\n",
       "    </tr>\n",
       "    <tr>\n",
       "      <th>1</th>\n",
       "      <td>AA-10315</td>\n",
       "      <td>2014-09-15</td>\n",
       "      <td>5.0</td>\n",
       "      <td>29.500</td>\n",
       "      <td>168.0</td>\n",
       "    </tr>\n",
       "    <tr>\n",
       "      <th>2</th>\n",
       "      <td>AA-10315</td>\n",
       "      <td>2015-10-04</td>\n",
       "      <td>2.0</td>\n",
       "      <td>26.960</td>\n",
       "      <td>384.0</td>\n",
       "    </tr>\n",
       "    <tr>\n",
       "      <th>3</th>\n",
       "      <td>AA-10315</td>\n",
       "      <td>2016-03-03</td>\n",
       "      <td>14.0</td>\n",
       "      <td>4406.072</td>\n",
       "      <td>151.0</td>\n",
       "    </tr>\n",
       "    <tr>\n",
       "      <th>4</th>\n",
       "      <td>AA-10315</td>\n",
       "      <td>2017-06-29</td>\n",
       "      <td>5.0</td>\n",
       "      <td>374.480</td>\n",
       "      <td>483.0</td>\n",
       "    </tr>\n",
       "    <tr>\n",
       "      <th>5</th>\n",
       "      <td>AA-10375</td>\n",
       "      <td>2014-04-21</td>\n",
       "      <td>5.0</td>\n",
       "      <td>16.520</td>\n",
       "      <td>1000.0</td>\n",
       "    </tr>\n",
       "    <tr>\n",
       "      <th>6</th>\n",
       "      <td>AA-10375</td>\n",
       "      <td>2014-10-24</td>\n",
       "      <td>3.0</td>\n",
       "      <td>34.272</td>\n",
       "      <td>186.0</td>\n",
       "    </tr>\n",
       "    <tr>\n",
       "      <th>7</th>\n",
       "      <td>AA-10375</td>\n",
       "      <td>2015-02-03</td>\n",
       "      <td>5.0</td>\n",
       "      <td>178.370</td>\n",
       "      <td>102.0</td>\n",
       "    </tr>\n",
       "    <tr>\n",
       "      <th>8</th>\n",
       "      <td>AA-10375</td>\n",
       "      <td>2015-05-08</td>\n",
       "      <td>2.0</td>\n",
       "      <td>5.248</td>\n",
       "      <td>94.0</td>\n",
       "    </tr>\n",
       "    <tr>\n",
       "      <th>9</th>\n",
       "      <td>AA-10375</td>\n",
       "      <td>2015-11-13</td>\n",
       "      <td>6.0</td>\n",
       "      <td>84.960</td>\n",
       "      <td>189.0</td>\n",
       "    </tr>\n",
       "  </tbody>\n",
       "</table>\n",
       "</div>"
      ],
      "text/plain": [
       "  Customer ID Order Date  quantity_roll_sum_7D  sales_roll_sum_7D  \\\n",
       "0    AA-10315 2014-03-31                   4.0            726.548   \n",
       "1    AA-10315 2014-09-15                   5.0             29.500   \n",
       "2    AA-10315 2015-10-04                   2.0             26.960   \n",
       "3    AA-10315 2016-03-03                  14.0           4406.072   \n",
       "4    AA-10315 2017-06-29                   5.0            374.480   \n",
       "5    AA-10375 2014-04-21                   5.0             16.520   \n",
       "6    AA-10375 2014-10-24                   3.0             34.272   \n",
       "7    AA-10375 2015-02-03                   5.0            178.370   \n",
       "8    AA-10375 2015-05-08                   2.0              5.248   \n",
       "9    AA-10375 2015-11-13                   6.0             84.960   \n",
       "\n",
       "   last_visit_ndays  \n",
       "0            1000.0  \n",
       "1             168.0  \n",
       "2             384.0  \n",
       "3             151.0  \n",
       "4             483.0  \n",
       "5            1000.0  \n",
       "6             186.0  \n",
       "7             102.0  \n",
       "8              94.0  \n",
       "9             189.0  "
      ]
     },
     "execution_count": 11,
     "metadata": {},
     "output_type": "execute_result"
    }
   ],
   "source": [
    "txn_roll['last_visit_ndays'] = txn_roll['last_visit_ndays'].fillna(1000) #TODO # Replace missing recency values with 1000 days\n",
    "txn_roll.head(10)"
   ]
  },
  {
   "cell_type": "markdown",
   "metadata": {},
   "source": [
    "Question 2.5: Merge the aggregated data churn_agg with the RFM features in churn_roll. You can use the merge method to do this with the right keys specified."
   ]
  },
  {
   "cell_type": "code",
   "execution_count": 12,
   "metadata": {
    "scrolled": true
   },
   "outputs": [
    {
     "data": {
      "text/html": [
       "<div>\n",
       "<style scoped>\n",
       "    .dataframe tbody tr th:only-of-type {\n",
       "        vertical-align: middle;\n",
       "    }\n",
       "\n",
       "    .dataframe tbody tr th {\n",
       "        vertical-align: top;\n",
       "    }\n",
       "\n",
       "    .dataframe thead th {\n",
       "        text-align: right;\n",
       "    }\n",
       "</style>\n",
       "<table border=\"1\" class=\"dataframe\">\n",
       "  <thead>\n",
       "    <tr style=\"text-align: right;\">\n",
       "      <th></th>\n",
       "      <th>Customer ID</th>\n",
       "      <th>Order Date</th>\n",
       "      <th>Quantity</th>\n",
       "      <th>Sales</th>\n",
       "      <th>quantity_roll_sum_7D</th>\n",
       "      <th>sales_roll_sum_7D</th>\n",
       "      <th>last_visit_ndays</th>\n",
       "    </tr>\n",
       "  </thead>\n",
       "  <tbody>\n",
       "    <tr>\n",
       "      <th>0</th>\n",
       "      <td>AA-10315</td>\n",
       "      <td>2014-03-31</td>\n",
       "      <td>4</td>\n",
       "      <td>726.548</td>\n",
       "      <td>4.0</td>\n",
       "      <td>726.548</td>\n",
       "      <td>1000.0</td>\n",
       "    </tr>\n",
       "    <tr>\n",
       "      <th>1</th>\n",
       "      <td>AA-10315</td>\n",
       "      <td>2014-09-15</td>\n",
       "      <td>5</td>\n",
       "      <td>29.500</td>\n",
       "      <td>5.0</td>\n",
       "      <td>29.500</td>\n",
       "      <td>168.0</td>\n",
       "    </tr>\n",
       "    <tr>\n",
       "      <th>2</th>\n",
       "      <td>AA-10315</td>\n",
       "      <td>2015-10-04</td>\n",
       "      <td>2</td>\n",
       "      <td>26.960</td>\n",
       "      <td>2.0</td>\n",
       "      <td>26.960</td>\n",
       "      <td>384.0</td>\n",
       "    </tr>\n",
       "    <tr>\n",
       "      <th>3</th>\n",
       "      <td>AA-10315</td>\n",
       "      <td>2016-03-03</td>\n",
       "      <td>14</td>\n",
       "      <td>4406.072</td>\n",
       "      <td>14.0</td>\n",
       "      <td>4406.072</td>\n",
       "      <td>151.0</td>\n",
       "    </tr>\n",
       "    <tr>\n",
       "      <th>4</th>\n",
       "      <td>AA-10315</td>\n",
       "      <td>2017-06-29</td>\n",
       "      <td>5</td>\n",
       "      <td>374.480</td>\n",
       "      <td>5.0</td>\n",
       "      <td>374.480</td>\n",
       "      <td>483.0</td>\n",
       "    </tr>\n",
       "    <tr>\n",
       "      <th>5</th>\n",
       "      <td>AA-10375</td>\n",
       "      <td>2014-04-21</td>\n",
       "      <td>5</td>\n",
       "      <td>16.520</td>\n",
       "      <td>5.0</td>\n",
       "      <td>16.520</td>\n",
       "      <td>1000.0</td>\n",
       "    </tr>\n",
       "    <tr>\n",
       "      <th>6</th>\n",
       "      <td>AA-10375</td>\n",
       "      <td>2014-10-24</td>\n",
       "      <td>3</td>\n",
       "      <td>34.272</td>\n",
       "      <td>3.0</td>\n",
       "      <td>34.272</td>\n",
       "      <td>186.0</td>\n",
       "    </tr>\n",
       "    <tr>\n",
       "      <th>7</th>\n",
       "      <td>AA-10375</td>\n",
       "      <td>2015-02-03</td>\n",
       "      <td>5</td>\n",
       "      <td>178.370</td>\n",
       "      <td>5.0</td>\n",
       "      <td>178.370</td>\n",
       "      <td>102.0</td>\n",
       "    </tr>\n",
       "    <tr>\n",
       "      <th>8</th>\n",
       "      <td>AA-10375</td>\n",
       "      <td>2015-05-08</td>\n",
       "      <td>2</td>\n",
       "      <td>5.248</td>\n",
       "      <td>2.0</td>\n",
       "      <td>5.248</td>\n",
       "      <td>94.0</td>\n",
       "    </tr>\n",
       "    <tr>\n",
       "      <th>9</th>\n",
       "      <td>AA-10375</td>\n",
       "      <td>2015-11-13</td>\n",
       "      <td>6</td>\n",
       "      <td>84.960</td>\n",
       "      <td>6.0</td>\n",
       "      <td>84.960</td>\n",
       "      <td>189.0</td>\n",
       "    </tr>\n",
       "  </tbody>\n",
       "</table>\n",
       "</div>"
      ],
      "text/plain": [
       "  Customer ID Order Date  Quantity     Sales  quantity_roll_sum_7D  \\\n",
       "0    AA-10315 2014-03-31         4   726.548                   4.0   \n",
       "1    AA-10315 2014-09-15         5    29.500                   5.0   \n",
       "2    AA-10315 2015-10-04         2    26.960                   2.0   \n",
       "3    AA-10315 2016-03-03        14  4406.072                  14.0   \n",
       "4    AA-10315 2017-06-29         5   374.480                   5.0   \n",
       "5    AA-10375 2014-04-21         5    16.520                   5.0   \n",
       "6    AA-10375 2014-10-24         3    34.272                   3.0   \n",
       "7    AA-10375 2015-02-03         5   178.370                   5.0   \n",
       "8    AA-10375 2015-05-08         2     5.248                   2.0   \n",
       "9    AA-10375 2015-11-13         6    84.960                   6.0   \n",
       "\n",
       "   sales_roll_sum_7D  last_visit_ndays  \n",
       "0            726.548            1000.0  \n",
       "1             29.500             168.0  \n",
       "2             26.960             384.0  \n",
       "3           4406.072             151.0  \n",
       "4            374.480             483.0  \n",
       "5             16.520            1000.0  \n",
       "6             34.272             186.0  \n",
       "7            178.370             102.0  \n",
       "8              5.248              94.0  \n",
       "9             84.960             189.0  "
      ]
     },
     "execution_count": 12,
     "metadata": {},
     "output_type": "execute_result"
    }
   ],
   "source": [
    "txn_rfm = txn_agg.merge(txn_roll, how='inner', on=['Customer ID', 'Order Date'])\n",
    "txn_rfm.head(10)"
   ]
  },
  {
   "cell_type": "markdown",
   "metadata": {},
   "source": [
    "Question 3.1: Train the k-means algorithm you developed earlier on the RFM features using  𝑘=4 . What are the cluster centroids? The cluster centroids should be reported in the original scale, not the standardized scale."
   ]
  },
  {
   "cell_type": "code",
   "execution_count": 13,
   "metadata": {
    "collapsed": true
   },
   "outputs": [],
   "source": [
    "from sklearn.preprocessing import StandardScaler"
   ]
  },
  {
   "cell_type": "code",
   "execution_count": 43,
   "metadata": {},
   "outputs": [
    {
     "data": {
      "text/plain": [
       "(4992, 3)"
      ]
     },
     "execution_count": 43,
     "metadata": {},
     "output_type": "execute_result"
    }
   ],
   "source": [
    "# we have to scale the data for the actual fitting, though we can print on original scale\n",
    "scaler = StandardScaler()\n",
    "columns = ['quantity_roll_sum_7D', 'sales_roll_sum_7D', 'last_visit_ndays']\n",
    "data = scaler.fit_transform(txn_rfm[columns])\n",
    "data.shape"
   ]
  },
  {
   "cell_type": "code",
   "execution_count": 56,
   "metadata": {},
   "outputs": [
    {
     "data": {
      "text/plain": [
       "array([[ 1.49479168e+00,  1.76217236e+01,  4.09427208e-01],\n",
       "       [-4.41314952e-01, -2.62072600e-01,  8.24995187e-03],\n",
       "       [ 1.60253407e+00,  3.60423863e+00,  8.47016031e-04],\n",
       "       [ 1.34384269e+00,  3.37661088e-01, -3.13940556e-02]])"
      ]
     },
     "execution_count": 56,
     "metadata": {},
     "output_type": "execute_result"
    }
   ],
   "source": [
    "k = 4\n",
    "ClusterCentroidGuesses = np.empty((k, data.shape[1]))\n",
    "for i in range(k):\n",
    "    ClusterCentroidGuesses[i] = np.array(\n",
    "        [np.random.randint(data[:, i].min(), data[:, i].max())\n",
    "         for i in range(data.shape[1])]\n",
    "    )\n",
    "\n",
    "Labels, ClusterCentroids = KMeans(data, ClusterCentroidGuesses)\n",
    "\n",
    "# first let's see the scaled centroids\n",
    "ClusterCentroids"
   ]
  },
  {
   "cell_type": "code",
   "execution_count": 59,
   "metadata": {},
   "outputs": [
    {
     "data": {
      "text/plain": [
       "array([[   17.5       , 17441.7265    ,   457.75      ],\n",
       "       [    4.96693996,   218.42005655,   320.47580005],\n",
       "       [   18.19745223,  3941.93951656,   317.94267516],\n",
       "       [   16.52285714,   796.00420038,   306.91047619]])"
      ]
     },
     "execution_count": 59,
     "metadata": {},
     "output_type": "execute_result"
    }
   ],
   "source": [
    "# then we can see the original values with \n",
    "np.set_printoptions(suppress=True)\n",
    "scaler.inverse_transform(ClusterCentroids)"
   ]
  },
  {
   "cell_type": "markdown",
   "metadata": {},
   "source": [
    "Question 3.2: Pick few pairs and plot scatter plots along with cluster centroids."
   ]
  },
  {
   "cell_type": "code",
   "execution_count": 67,
   "metadata": {},
   "outputs": [],
   "source": [
    "sample_inds = np.random.randint(0, data.shape[0], 250)\n",
    "sample_data = data[sample_inds]\n",
    "sample_labels = np.array(Labels)[sample_inds]"
   ]
  },
  {
   "cell_type": "code",
   "execution_count": 73,
   "metadata": {},
   "outputs": [
    {
     "data": {
      "text/plain": [
       "<matplotlib.collections.PathCollection at 0x7f5481624310>"
      ]
     },
     "execution_count": 73,
     "metadata": {},
     "output_type": "execute_result"
    },
    {
     "data": {
      "image/png": "[encoded data removed]",
      "text/plain": [
       "<Figure size 432x288 with 1 Axes>"
      ]
     },
     "metadata": {
      "needs_background": "light"
     },
     "output_type": "display_data"
    }
   ],
   "source": [
    "# quantity (X) vs sales (Y)\n",
    "plt.scatter(\n",
    "    x=sample_data[:, 0],\n",
    "    y=sample_data[:, 1],\n",
    "    c=sample_labels\n",
    ")\n",
    "# centroids\n",
    "plt.scatter(\n",
    "    x=ClusterCentroids[:, 0],\n",
    "    y=ClusterCentroids[:, 1],\n",
    "    c='black'\n",
    ")"
   ]
  },
  {
   "cell_type": "code",
   "execution_count": 74,
   "metadata": {},
   "outputs": [
    {
     "data": {
      "text/plain": [
       "<matplotlib.collections.PathCollection at 0x7f54815a5250>"
      ]
     },
     "execution_count": 74,
     "metadata": {},
     "output_type": "execute_result"
    },
    {
     "data": {
      "image/png": "[encoded data removed]",
      "text/plain": [
       "<Figure size 432x288 with 1 Axes>"
      ]
     },
     "metadata": {
      "needs_background": "light"
     },
     "output_type": "display_data"
    }
   ],
   "source": [
    "# sales (X) vs last visit (Y)\n",
    "plt.scatter(\n",
    "    x=sample_data[:, 1],\n",
    "    y=sample_data[:, 2],\n",
    "    c=sample_labels\n",
    ")\n",
    "\n",
    "# centroids\n",
    "plt.scatter(\n",
    "    x=ClusterCentroids[:, 1],\n",
    "    y=ClusterCentroids[:, 2],\n",
    "    c='black'\n",
    ")"
   ]
  },
  {
   "cell_type": "markdown",
   "metadata": {},
   "source": [
    "[Bonus] Question 4: Train k-means model using sklearn library and compare results to the model developed above."
   ]
  },
  {
   "cell_type": "code",
   "execution_count": 57,
   "metadata": {},
   "outputs": [
    {
     "data": {
      "text/plain": [
       "array([[ 1.49479168e+00,  1.76217236e+01,  4.09427208e-01],\n",
       "       [-4.40452467e-01, -2.61395092e-01,  9.58578405e-03],\n",
       "       [ 1.60253407e+00,  3.60423863e+00,  8.47016031e-04],\n",
       "       [ 1.34754835e+00,  3.37502929e-01, -3.63794292e-02]])"
      ]
     },
     "execution_count": 57,
     "metadata": {},
     "output_type": "execute_result"
    }
   ],
   "source": [
    "from sklearn.cluster import KMeans as KMeans_SKL\n",
    "\n",
    "# if we use the same initialization, they will converge to almost identical positions\n",
    "model = KMeans_SKL(n_clusters=k, init=ClusterCentroidGuesses, n_init=1)\n",
    "model.fit(data)\n",
    "model.cluster_centers_"
   ]
  },
  {
   "cell_type": "code",
   "execution_count": 60,
   "metadata": {},
   "outputs": [
    {
     "data": {
      "text/plain": [
       "array([[   17.5       , 17441.7265    ,   457.75      ],\n",
       "       [    4.97252312,   219.07254314,   320.932893  ],\n",
       "       [   18.19745223,  3941.93951656,   317.94267516],\n",
       "       [   16.54684512,   795.85188184,   305.20458891]])"
      ]
     },
     "execution_count": 60,
     "metadata": {},
     "output_type": "execute_result"
    }
   ],
   "source": [
    "scaler.inverse_transform(model.cluster_centers_)"
   ]
  },
  {
   "cell_type": "markdown",
   "metadata": {},
   "source": [
    "Question 5: Create a new text cell in your Notebook: Complete a 50-100 word summary (or short description of your thinking in applying this week's learning to the solution) of your experience in this assignment. Include: What was your incoming experience with this model, if any? what steps you took, what obstacles you encountered. how you link this exercise to real-world, machine learning problem-solving. (What steps were missing? What else do you need to learn?) This summary allows your instructor to know how you are doing and allot points for your effort in thinking and planning, and making connections to real-world work."
   ]
  },
  {
   "cell_type": "markdown",
   "metadata": {
    "collapsed": true
   },
   "source": [
    "The actual implementation of KMeans was very straightforward. I was also pleased to see that my model reached almost the exact same centroids as the sklearn implementation, provided I used the same initialization with each. However, there were very small differences. I am curious why this is the case. If I had to guess, I'd say it's related to the way that sklearn breaks ties, since the differences are so minor.\n",
    "\n",
    "I think the trickiest part of this particular problem is with feature engineering rather than model construction. Even with data standardization, there was a cluster dominated by outliers that went way off away from the mass of the data. This may be in part due to the arbitrary value (1000) used to fill NA values. "
   ]
  },
  {
   "cell_type": "code",
   "execution_count": null,
   "metadata": {
    "collapsed": true
   },
   "outputs": [],
   "source": []
  }
 ],
 "metadata": {
  "kernelspec": {
   "display_name": "Python 3 [3.7]",
   "language": "python",
   "name": "python3"
  },
  "language_info": {
   "codemirror_mode": {
    "name": "ipython",
    "version": 3
   },
   "file_extension": ".py",
   "mimetype": "text/x-python",
   "name": "python",
   "nbconvert_exporter": "python",
   "pygments_lexer": "ipython3",
   "version": "3.7.5"
  }
 },
 "nbformat": 4,
 "nbformat_minor": 2
}
